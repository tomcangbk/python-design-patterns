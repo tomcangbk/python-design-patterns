{
 "cells": [
  {
   "cell_type": "code",
   "execution_count": 1,
   "metadata": {
    "collapsed": true
   },
   "outputs": [],
   "source": [
    "class Enemy(object):\n",
    "\n",
    "    def move_left(self):\n",
    "        print('Moving left...')\n",
    "\n",
    "    def move_right(self):\n",
    "        print('Moving right...')\n",
    "\n",
    "\n",
    "class Ninja(Enemy):\n",
    "\n",
    "    def karate_chop(self):\n",
    "        print('Karate chop!')\n",
    "\n",
    "\n",
    "class Zombie(Enemy):\n",
    "\n",
    "    def bite(self):\n",
    "        print('I am biting you!')"
   ]
  },
  {
   "cell_type": "code",
   "execution_count": 4,
   "metadata": {
    "collapsed": false
   },
   "outputs": [
    {
     "name": "stdout",
     "output_type": "stream",
     "text": [
      "<class '__main__.Enemy'>\n",
      "Moving left...\n",
      "Moving right...\n"
     ]
    }
   ],
   "source": [
    "enemy = Enemy()\n",
    "print(type(enemy))\n",
    "enemy.move_left()\n",
    "enemy.move_right()"
   ]
  },
  {
   "cell_type": "code",
   "execution_count": 6,
   "metadata": {
    "collapsed": false
   },
   "outputs": [
    {
     "name": "stdout",
     "output_type": "stream",
     "text": [
      "Moving left...\n",
      "Karate chop!\n"
     ]
    }
   ],
   "source": [
    "# Ninja - inheritance of Enemy class\n",
    "ninja = Ninja()\n",
    "ninja.move_left()\n",
    "ninja.karate_chop()"
   ]
  },
  {
   "cell_type": "code",
   "execution_count": 9,
   "metadata": {
    "collapsed": false
   },
   "outputs": [
    {
     "name": "stdout",
     "output_type": "stream",
     "text": [
      "Moving left...\n",
      "I am biting you!\n"
     ]
    }
   ],
   "source": [
    "# Zombie - inheritance of Enemy\n",
    "zombie = Zombie()\n",
    "zombie.move_left()\n",
    "zombie.bite()"
   ]
  },
  {
   "cell_type": "code",
   "execution_count": null,
   "metadata": {
    "collapsed": true
   },
   "outputs": [],
   "source": []
  }
 ],
 "metadata": {
  "kernelspec": {
   "display_name": "Python [Root]",
   "language": "python",
   "name": "Python [Root]"
  },
  "language_info": {
   "codemirror_mode": {
    "name": "ipython",
    "version": 3
   },
   "file_extension": ".py",
   "mimetype": "text/x-python",
   "name": "python",
   "nbconvert_exporter": "python",
   "pygments_lexer": "ipython3",
   "version": "3.5.2"
  }
 },
 "nbformat": 4,
 "nbformat_minor": 0
}
