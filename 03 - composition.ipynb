{
 "cells": [
  {
   "cell_type": "code",
   "execution_count": 2,
   "metadata": {
    "collapsed": true
   },
   "outputs": [],
   "source": [
    "# Co the tao 1 object bang cach ghep nhieu object lai voi nhau\n",
    "# Tao mot object phuc tap bang cach gom cac object don gian\n",
    "# Vidu: Tao Person object bang cach gop Head va Body class\n",
    "class Head(object):\n",
    "\n",
    "    def __init__(self, eye_color, hair_color):\n",
    "        self.eye_color = eye_color\n",
    "        self.hair_color = hair_color\n",
    "\n",
    "\n",
    "class Body(object):\n",
    "\n",
    "    def __init__(self, weight):\n",
    "        self.weight = weight\n",
    "\n",
    "\n",
    "class Person(object):\n",
    "\n",
    "    def __init__(self, eye_color, hair_color, weight):\n",
    "        \n",
    "        # Head lay tu class head\n",
    "        self.head = Head(eye_color, hair_color)\n",
    "        \n",
    "        # Body lay tu class body\n",
    "        self.body = Body(weight)\n",
    "\n",
    "    def print_eye_color(self):\n",
    "        print(self.head.eye_color)"
   ]
  },
  {
   "cell_type": "code",
   "execution_count": 3,
   "metadata": {
    "collapsed": false
   },
   "outputs": [
    {
     "name": "stdout",
     "output_type": "stream",
     "text": [
      "<class '__main__.Person'>\n",
      "blue\n"
     ]
    }
   ],
   "source": [
    "# Tao mot doi tuong person\n",
    "bucky = Person(\"blue\", \"blonde\", 180)\n",
    "print(type(bucky))\n",
    "bucky.print_eye_color()"
   ]
  },
  {
   "cell_type": "code",
   "execution_count": null,
   "metadata": {
    "collapsed": true
   },
   "outputs": [],
   "source": []
  }
 ],
 "metadata": {
  "kernelspec": {
   "display_name": "Python [Root]",
   "language": "python",
   "name": "Python [Root]"
  },
  "language_info": {
   "codemirror_mode": {
    "name": "ipython",
    "version": 3
   },
   "file_extension": ".py",
   "mimetype": "text/x-python",
   "name": "python",
   "nbconvert_exporter": "python",
   "pygments_lexer": "ipython3",
   "version": "3.5.2"
  }
 },
 "nbformat": 4,
 "nbformat_minor": 0
}
